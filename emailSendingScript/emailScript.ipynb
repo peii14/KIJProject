{
 "cells": [
  {
   "cell_type": "markdown",
   "id": "d25510d6",
   "metadata": {},
   "source": [
    "SENDING"
   ]
  },
  {
   "cell_type": "code",
   "execution_count": null,
   "id": "aae7de5f",
   "metadata": {},
   "outputs": [],
   "source": [
    "from email.message import EmailMessage\n",
    "import imghdr\n",
    "from email.mime.multipart import MIMEMultipart\n",
    "from email.mime.text import MIMEText\n",
    "from email.mime.base import MIMEBase\n",
    "from email import encoders\n",
    "import smtplib"
   ]
  },
  {
   "cell_type": "code",
   "execution_count": null,
   "id": "6c3553d6",
   "metadata": {},
   "outputs": [],
   "source": [
    "EMAIL_ADDRESS = 'satriaadam04@gmail.com'\n",
    "EMAIL_PASSWORD = '*Adamsatria123'\n",
    "\n",
    "msg = MIMEMultipart()\n",
    "msg['Subject'] = 'Trial'\n",
    "msg['From'] = EMAIL_ADDRESS\n",
    "msg['To'] = 'satriaadam04@gmail.com'"
   ]
  },
  {
   "cell_type": "markdown",
   "id": "8b0455af",
   "metadata": {},
   "source": [
    "Public Key"
   ]
  },
  {
   "cell_type": "code",
   "execution_count": null,
   "id": "4e111907",
   "metadata": {},
   "outputs": [],
   "source": [
    "attach_file_name = ['../KIJ-openssl/public_key.pem']"
   ]
  },
  {
   "cell_type": "markdown",
   "id": "35bcc01b",
   "metadata": {},
   "source": [
    "Encrypted non openssl"
   ]
  },
  {
   "cell_type": "code",
   "execution_count": null,
   "id": "66c96258",
   "metadata": {},
   "outputs": [],
   "source": [
    "attach_file_name = ['../encrypted.bmp','../encrypted_file.txt']"
   ]
  },
  {
   "cell_type": "markdown",
   "id": "7ac20d4e",
   "metadata": {},
   "source": [
    "Encrypted openssl"
   ]
  },
  {
   "cell_type": "code",
   "execution_count": null,
   "id": "70a86c3d",
   "metadata": {},
   "outputs": [],
   "source": [
    "attach_file_name = ['../KIJ-openssl/opensslEncrypted.bmp','private_key.bin']"
   ]
  },
  {
   "cell_type": "code",
   "execution_count": 12,
   "id": "5edb2ec8",
   "metadata": {},
   "outputs": [
    {
     "name": "stdout",
     "output_type": "stream",
     "text": [
      "bmp\n"
     ]
    }
   ],
   "source": [
    "for file in attach_file_name:\n",
    "    with open(file, 'rb') as f:\n",
    "        data = f.read()\n",
    "        data_name = f.name\n",
    "        payload = MIMEBase('application', 'ocatate-stream')\n",
    "        payload.set_payload(data)\n",
    "        encoders.encode_base64(payload)\n",
    "        payload.add_header('Content-Disposition', 'attachment', filename = data_name)\n",
    "        msg.attach(payload)\n",
    "\n",
    "with smtplib.SMTP_SSL('smtp.gmail.com', 465) as smtp:\n",
    "    smtp.login(EMAIL_ADDRESS, EMAIL_PASSWORD)\n",
    "    smtp.send_message(msg)\n",
    "\n",
    "print(data_name)\n",
    "print(\"mail sent\")"
   ]
  },
  {
   "cell_type": "code",
   "execution_count": null,
   "id": "e9bc508a",
   "metadata": {},
   "outputs": [],
   "source": []
  },
  {
   "cell_type": "markdown",
   "id": "bd4f3a75",
   "metadata": {},
   "source": [
    "RECEIVING"
   ]
  },
  {
   "cell_type": "code",
   "execution_count": 13,
   "id": "3b14f3b9",
   "metadata": {},
   "outputs": [],
   "source": [
    "import os\n",
    "from imbox import Imbox\n",
    "import traceback"
   ]
  },
  {
   "cell_type": "code",
   "execution_count": 14,
   "id": "20eb4a71",
   "metadata": {},
   "outputs": [
    {
     "name": "stdout",
     "output_type": "stream",
     "text": [
      "/Users/gayuhkautaman/Documents/code/cpp/KIJProject/KIJ-openssl/unknown.png\n"
     ]
    }
   ],
   "source": [
    "host = \"imap.gmail.com\"\n",
    "username = \"\"\n",
    "password = ''\n",
    "download_folder = \"/Users/gayuhkautaman/Documents/code/cpp/KIJProject/KIJ-openssl\"\n",
    "\n",
    "if not os.path.isdir(download_folder):\n",
    "    os.makedirs(download_folder, exist_ok=True)\n",
    "\n",
    "mail = Imbox(host, username=username, password=password, ssl=True, ssl_context=None, starttls=False)\n",
    "messages = mail.messages(sent_from='satriaadam04@gmail.com')  # inbox filter\n",
    "\n",
    "for (uid, message) in messages:\n",
    "    mail.mark_seen(uid)  # optional, mark message as read\n",
    "\n",
    "    for idx, attachment in enumerate(message.attachments):\n",
    "        try:\n",
    "            att_fn = attachment.get('filename')\n",
    "            download_path = f\"{download_folder}/{att_fn}\"\n",
    "            print(download_path)\n",
    "            with open(download_path, \"wb\") as fp:\n",
    "                fp.write(attachment.get('content').read())\n",
    "        except:\n",
    "            print(traceback.print_exc())\n",
    "    break\n",
    "\n",
    "mail.logout()"
   ]
  },
  {
   "cell_type": "code",
   "execution_count": null,
   "id": "bd2d5eb4",
   "metadata": {},
   "outputs": [],
   "source": []
  }
 ],
 "metadata": {
  "kernelspec": {
   "display_name": "Python 3 (ipykernel)",
   "language": "python",
   "name": "python3"
  },
  "language_info": {
   "codemirror_mode": {
    "name": "ipython",
    "version": 3
   },
   "file_extension": ".py",
   "mimetype": "text/x-python",
   "name": "python",
   "nbconvert_exporter": "python",
   "pygments_lexer": "ipython3",
   "version": "3.10.0"
  }
 },
 "nbformat": 4,
 "nbformat_minor": 5
}
