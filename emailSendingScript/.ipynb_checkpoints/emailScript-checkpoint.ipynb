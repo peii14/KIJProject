{
 "cells": [
  {
   "cell_type": "markdown",
   "id": "d25510d6",
   "metadata": {},
   "source": [
    "SENDING"
   ]
  },
  {
   "cell_type": "code",
   "execution_count": null,
   "id": "aae7de5f",
   "metadata": {},
   "outputs": [],
   "source": [
    "from email.message import EmailMessage\n",
    "import imghdr\n",
    "import smtplib"
   ]
  },
  {
   "cell_type": "code",
   "execution_count": null,
   "id": "5edb2ec8",
   "metadata": {},
   "outputs": [],
   "source": [
    "EMAIL_ADDRESS = 'satriaadam04@gmail.com'\n",
    "EMAIL_PASSWORD = '*Adamsatria123'\n",
    "\n",
    "msg = EmailMessage()\n",
    "msg['Subject'] = 'sending from python'\n",
    "msg['From'] = EMAIL_ADDRESS\n",
    "msg['To'] = 'gayuh14@yahoo.com'\n",
    "\n",
    "msg.set_content('sending picture')\n",
    "\n",
    "files = ['Screenshot 2022-03-21 172522.png', '737400.jpg']\n",
    "for file in files :\n",
    "    with open(file, 'rb') as f:\n",
    "        data = f.read()\n",
    "        data_name = f.name\n",
    "        data_type = imghdr.what(data_name)\n",
    "        print(data_type)\n",
    "\n",
    "    msg.add_attachment(data, maintype = 'image', subtype = data_type, filename = data_name)\n",
    "\n",
    "with smtplib.SMTP_SSL('smtp.gmail.com', 465) as smtp:\n",
    "    smtp.login(EMAIL_ADDRESS, EMAIL_PASSWORD)\n",
    "    smtp.send_message(msg)"
   ]
  },
  {
   "cell_type": "markdown",
   "id": "bd4f3a75",
   "metadata": {},
   "source": [
    "RECEIVING"
   ]
  },
  {
   "cell_type": "code",
   "execution_count": 1,
   "id": "3b14f3b9",
   "metadata": {},
   "outputs": [],
   "source": [
    "import os\n",
    "from imbox import Imbox\n",
    "import traceback"
   ]
  },
  {
   "cell_type": "code",
   "execution_count": 2,
   "id": "20eb4a71",
   "metadata": {},
   "outputs": [
    {
     "name": "stdout",
     "output_type": "stream",
     "text": [
      "C:\\Users\\satri\\Downloads/Screenshot 2022-03-11 at 22.54.59 (2).png\n"
     ]
    }
   ],
   "source": [
    "host = \"imap.gmail.com\"\n",
    "username = \"satriaadam04@gmail.com\"\n",
    "password = '*Adamsatria123'\n",
    "download_folder = \"C:\\\\Users\\\\satri\\\\Downloads\"\n",
    "\n",
    "if not os.path.isdir(download_folder):\n",
    "    os.makedirs(download_folder, exist_ok=True)\n",
    "\n",
    "mail = Imbox(host, username=username, password=password, ssl=True, ssl_context=None, starttls=False)\n",
    "messages = mail.messages(sent_from='savieralavenia@gmail.com')  # inbox filter\n",
    "\n",
    "for (uid, message) in messages:\n",
    "    mail.mark_seen(uid)  # optional, mark message as read\n",
    "\n",
    "    for idx, attachment in enumerate(message.attachments):\n",
    "        try:\n",
    "            att_fn = attachment.get('filename')\n",
    "            download_path = f\"{download_folder}/{att_fn}\"\n",
    "            print(download_path)\n",
    "            with open(download_path, \"wb\") as fp:\n",
    "                fp.write(attachment.get('content').read())\n",
    "        except:\n",
    "            print(traceback.print_exc())\n",
    "\n",
    "mail.logout()"
   ]
  },
  {
   "cell_type": "code",
   "execution_count": null,
   "id": "bd2d5eb4",
   "metadata": {},
   "outputs": [],
   "source": []
  }
 ],
 "metadata": {
  "kernelspec": {
   "display_name": "Python 3 (ipykernel)",
   "language": "python",
   "name": "python3"
  },
  "language_info": {
   "codemirror_mode": {
    "name": "ipython",
    "version": 3
   },
   "file_extension": ".py",
   "mimetype": "text/x-python",
   "name": "python",
   "nbconvert_exporter": "python",
   "pygments_lexer": "ipython3",
   "version": "3.9.7"
  }
 },
 "nbformat": 4,
 "nbformat_minor": 5
}
